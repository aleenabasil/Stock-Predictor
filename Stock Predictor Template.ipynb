{
 "cells": [
  {
   "cell_type": "code",
   "execution_count": null,
   "id": "b95f50f1",
   "metadata": {},
   "outputs": [],
   "source": [
    "# Import dependencies/libraries\n",
    "import os\n",
    "import pandas as pd \n",
    "import matplotlib.pyplot as plt\n",
    "import numpy as np \n",
    "import seaborn as sb"
   ]
  },
  {
   "cell_type": "code",
   "execution_count": null,
   "id": "60a868ae",
   "metadata": {},
   "outputs": [],
   "source": [
    "# Import dataset and view first 5 rows\n",
    "df = pd.read_csv('your path to csv file')\n",
    "df.head()"
   ]
  },
  {
   "cell_type": "code",
   "execution_count": null,
   "id": "9b39c72d",
   "metadata": {},
   "outputs": [],
   "source": [
    "# Get info\n",
    "df.shape\n",
    "df.describe()\n",
    "df.info()"
   ]
  },
  {
   "cell_type": "code",
   "execution_count": null,
   "id": "7ce3f743",
   "metadata": {},
   "outputs": [],
   "source": [
    "#TO-DO: Clean data\n"
   ]
  },
  {
   "cell_type": "code",
   "execution_count": null,
   "id": "5e60193a",
   "metadata": {},
   "outputs": [],
   "source": [
    "#TO-DO: Exploratory data analysis\n"
   ]
  }
 ],
 "metadata": {
  "kernelspec": {
   "display_name": "Python 3 (ipykernel)",
   "language": "python",
   "name": "python3"
  },
  "language_info": {
   "codemirror_mode": {
    "name": "ipython",
    "version": 3
   },
   "file_extension": ".py",
   "mimetype": "text/x-python",
   "name": "python",
   "nbconvert_exporter": "python",
   "pygments_lexer": "ipython3",
   "version": "3.11.5"
  }
 },
 "nbformat": 4,
 "nbformat_minor": 5
}
